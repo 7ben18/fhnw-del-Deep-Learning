{
 "cells": [
  {
   "attachments": {},
   "cell_type": "markdown",
   "metadata": {},
   "source": [
    "# Mini-Challenge 1\n",
    "Thema: Hyperparameter und Model Tuning  \n",
    "Student: Si Ben Tran  \n",
    "Fachexperte: Martin Melchior  \n",
    "Abgabetermin: Ende FS23   \n",
    "\n",
    "Zielbeschreibung:  \n",
    "Implementiere, trainiere und validiere ein Neuronales Netzwerk Modell für einen\n",
    "Klassifikationstask mit geeignetem Dataset. Der zu modellierende Task und die dazu\n",
    "passenden Daten sollen am Anfang der Mini-Challenge individuell vereinbart werden. Dabei\n",
    "können die Studierenden auch ihre Wünsche einbringen und Task/Datensatz vorschlagen.\n",
    "Dabei ist aber darauf zu achten, dass der Fokus auf das Training und die Evaluation gelegt\n",
    "und nicht zu viel Zeit mit Datenbeschaffung, -Analyse und -Vorverarbeitung verbraucht wird.\n",
    "Der Datensatz sollte auch nicht zu gross sein, um viele verschiedene Modell- und\n",
    "Parametervarianten evaluieren zu können. Ausserdem sollten nicht zu ausgeklügelte\n",
    "komplexe Modell-Architekturen untersucht werden. Ein MLP für die Klassifikation allenfalls\n",
    "mit ein paar CNN-Layern für Feature-Extraktion sollte ausreichen.\n",
    "\n",
    "Zeitlicher Rahmen:  \n",
    "Wird beim Schritt 1 verbindlich festgelegt.\n",
    "\n",
    "Beurteilung:  \n",
    "Beurteilt wird auf Basis des abgegebenen Notebooks:  \n",
    "• Vollständige und korrekte Umsetzung der vereinbarten Aufgabestellung.  \n",
    "• Klare, gut-strukturierte Umsetzung.  \n",
    "• Schlüssige Beschreibung und Interpretation der Ergebnisse. Gut gewählte und gut kommentierten Plots und Tabellen.  \n",
    "• Vernünftiger Umgang mit (Computing-)Ressourcen.  \n",
    "• Verständliche Präsentation der Ergebnisse.  \n",
    "\n",
    "\n",
    "---"
   ]
  },
  {
   "attachments": {},
   "cell_type": "markdown",
   "metadata": {},
   "source": [
    "# Arbeitsschritte"
   ]
  },
  {
   "attachments": {},
   "cell_type": "markdown",
   "metadata": {},
   "source": [
    "## Schritt 1: Auswahl Task / Datensatz  \n",
    "\n",
    "**Absprache/Beschluss** mit Fachcoach über Daten/Task.\n",
    "\n",
    "**1. Mache Dir Gedanken, mit welchen Daten Du arbeiten möchtest und welcher Task\n",
    "gelernt werden soll.**  \n",
    "Gedanken: \n",
    "\n",
    "**2. Diskutiere die Idee mit dem Fachcoach.**  \n",
    "Diskussion: \n",
    "\n",
    "\n",
    "\n",
    "\n",
    "---"
   ]
  },
  {
   "attachments": {},
   "cell_type": "markdown",
   "metadata": {},
   "source": [
    "## Schritt 2: Daten Kennenlernen\n",
    "Wie erwähnt, sollte dieser Schritt nicht viel Zeit beanspruchen, da der Datensatz einfach\n",
    "sein soll!\n",
    "\n",
    "\n",
    "**1. Mache Dich mit dem Datensatz vertraut, indem Du eine (kurze) explorative Analyse\n",
    "der Features durchführst: z.B. Vergleich der Klassen pro Feature, Balanciertheit der\n",
    "Klassen.**\n"
   ]
  },
  {
   "cell_type": "code",
   "execution_count": null,
   "metadata": {},
   "outputs": [],
   "source": [
    "# CODE"
   ]
  },
  {
   "attachments": {},
   "cell_type": "markdown",
   "metadata": {},
   "source": [
    "**2. Führe ein geeignetes Preprocessing durch, z.B. Normalisierung der Daten.**"
   ]
  },
  {
   "cell_type": "code",
   "execution_count": 2,
   "metadata": {},
   "outputs": [],
   "source": [
    "# CODE"
   ]
  },
  {
   "attachments": {},
   "cell_type": "markdown",
   "metadata": {},
   "source": [
    "---"
   ]
  },
  {
   "attachments": {},
   "cell_type": "markdown",
   "metadata": {},
   "source": [
    "## Schritt 3: Aufbau Modellierung\n",
    "\n",
    "**Absprache/Beschluss** mit Fachcoach über die zu untersuchenden Varianten (Schritte 4)\n",
    "\n",
    "**1. Lege fest, wie (mit welchen Metriken) Du Modelle evaluieren möchtest.\n",
    "Berücksichtige auch den Fehler in der Schätzung dieser Metriken.**\n"
   ]
  },
  {
   "cell_type": "code",
   "execution_count": null,
   "metadata": {},
   "outputs": [],
   "source": [
    "# CODE"
   ]
  },
  {
   "attachments": {},
   "cell_type": "markdown",
   "metadata": {},
   "source": [
    "**2. Implementiere Basisfunktionalität, um Modelle zu trainieren und gegeneinander zu\n",
    "evaluieren.**\n",
    "\n",
    "Empfehlenswert ist die Verwendung einer geeigneten MLOps Plattform (z.B. W&B)"
   ]
  },
  {
   "cell_type": "code",
   "execution_count": null,
   "metadata": {},
   "outputs": [],
   "source": [
    "# CODE"
   ]
  },
  {
   "attachments": {},
   "cell_type": "markdown",
   "metadata": {},
   "source": [
    "**3. Teste Modelle und Trainingsfunktionalität, indem Du nur mit einem einzigen Sample\n",
    "oder einem Batch trainierst. Damit bekommst Du zwar Overfitting, aber auch einen\n",
    "guten Test, der zeigt dass Information aus den Daten aufgenommen werden kann.**"
   ]
  },
  {
   "cell_type": "code",
   "execution_count": null,
   "metadata": {},
   "outputs": [],
   "source": [
    "# CODE"
   ]
  },
  {
   "attachments": {},
   "cell_type": "markdown",
   "metadata": {},
   "source": [
    "---"
   ]
  },
  {
   "attachments": {},
   "cell_type": "markdown",
   "metadata": {},
   "source": [
    "## Schritt 4: Evaluation\n",
    "\n",
    "Bei der Evaluation ist darauf zu achten, dass das Vorgehen stets möglichst reflektiert\n",
    "erfolgt und versucht wird, die Ergebnisse zu interpretieren. Am Schluss soll auch ein\n",
    "Fazit gezogen werden, darüber welche Variante am besten funktioniert.\n",
    "\n",
    "### 1. Training mit SGD, ohne REG, ohne BN:  \n",
    "Untersuche verschiedene Modelle unterschiedlicher Komplexität, welche geeignet\n",
    "sein könnten, um das Klassifikationsproblem zu lösen. Verwende Stochastic Gradient\n",
    "Descent - ohne Beschleunigung, ohne Regularisierung (REG) und ohne Batchnorm\n",
    "(BN). Überlege Dir für jeden Fall, wie die Gewichte initialisiert werden sollen."
   ]
  },
  {
   "cell_type": "code",
   "execution_count": null,
   "metadata": {},
   "outputs": [],
   "source": [
    "# CODE"
   ]
  },
  {
   "attachments": {},
   "cell_type": "markdown",
   "metadata": {},
   "source": [
    "**a. Für jedes Modell mit gegebener Anzahl Layer und Units pro Layer führe ein\n",
    "sorgfältiges Hyper-Parameter-Tuning durch (Lernrate, Batch-Grösse). Achte\n",
    "stets darauf, dass das Training stabil läuft. Merke Dir bei jedem Training, den\n",
    "Loss, die Performance Metrik(en) inkl. Schätzfehler, die verwendete Anzahl\n",
    "Epochen, Lernrate und Batch-Grösse.**"
   ]
  },
  {
   "cell_type": "code",
   "execution_count": null,
   "metadata": {},
   "outputs": [],
   "source": [
    "# CODE"
   ]
  },
  {
   "attachments": {},
   "cell_type": "markdown",
   "metadata": {},
   "source": [
    "**b. Variiere die Anzahl Layer und Anzahl Units pro Layer, um eine möglichst gute\n",
    "Performance zu erreichen. Falls auch CNNs (ohne Transfer-Learning)\n",
    "verwendet werden variiere auch Anzahl Filter, Kernel-Grösse, Stride, Padding.**"
   ]
  },
  {
   "cell_type": "code",
   "execution_count": null,
   "metadata": {},
   "outputs": [],
   "source": [
    "# CODE"
   ]
  },
  {
   "attachments": {},
   "cell_type": "markdown",
   "metadata": {},
   "source": [
    "**c. Fasse die Ergebnisse zusammen in einem geeigneten Plot, bilde eine\n",
    "Synthese und folgere, welche Modell-Komplexität Dir am sinnvollsten\n",
    "erscheint.**"
   ]
  },
  {
   "cell_type": "code",
   "execution_count": null,
   "metadata": {},
   "outputs": [],
   "source": [
    "# CODE"
   ]
  },
  {
   "attachments": {},
   "cell_type": "markdown",
   "metadata": {},
   "source": [
    "---"
   ]
  },
  {
   "attachments": {},
   "cell_type": "markdown",
   "metadata": {},
   "source": [
    "### 2. Nutzen der Regularisierung\n",
    "\n",
    "Ziehe nun verschiedene Regularisierungsmethoden bei den MLP Layern in Betracht:"
   ]
  },
  {
   "attachments": {},
   "cell_type": "markdown",
   "metadata": {},
   "source": [
    "**a. L1/L2 Weight Penalty**"
   ]
  },
  {
   "cell_type": "code",
   "execution_count": null,
   "metadata": {},
   "outputs": [],
   "source": [
    "# CODE"
   ]
  },
  {
   "attachments": {},
   "cell_type": "markdown",
   "metadata": {},
   "source": [
    "**b. Dropout**"
   ]
  },
  {
   "cell_type": "code",
   "execution_count": null,
   "metadata": {},
   "outputs": [],
   "source": [
    "# CODE"
   ]
  },
  {
   "attachments": {},
   "cell_type": "markdown",
   "metadata": {},
   "source": [
    "Evaluiere den Nutzen der Regularisierung, auch unter Berücksichtigung\n",
    "verschiedener Regularisierungsstärken.\n",
    "Beschreibe auch kurz, was allgemein das Ziel von Regularisierungsmethoden ist\n",
    "(Regularisierung im Allgemeinen, sowie auch Idee der einzelnen Methoden).\n",
    "Inwiefern wird dieses Ziel im gegebenen Fall erreicht?"
   ]
  },
  {
   "cell_type": "code",
   "execution_count": null,
   "metadata": {},
   "outputs": [],
   "source": [
    "# CODE"
   ]
  },
  {
   "attachments": {},
   "cell_type": "markdown",
   "metadata": {},
   "source": [
    "---"
   ]
  },
  {
   "attachments": {},
   "cell_type": "markdown",
   "metadata": {},
   "source": [
    "### 3. Nutzen von Batchnorm BN (ohne REG, mit SGD)\n",
    "\n",
    "Evaluiere, ob Batchnorm etwas bringt. Beschreibe kurz, was die Idee von BN ist,\n",
    "wozu es helfen soll."
   ]
  },
  {
   "cell_type": "code",
   "execution_count": null,
   "metadata": {},
   "outputs": [],
   "source": [
    "# CODE"
   ]
  },
  {
   "attachments": {},
   "cell_type": "markdown",
   "metadata": {},
   "source": [
    "---"
   ]
  },
  {
   "attachments": {},
   "cell_type": "markdown",
   "metadata": {},
   "source": [
    "### 4. Nutzen von Adam (ohne BN, ohne / mit REG)\n",
    "\n",
    "Evaluiere, ob Du mit Adam bessere Resultate erzielen kannst."
   ]
  },
  {
   "cell_type": "code",
   "execution_count": 4,
   "metadata": {},
   "outputs": [],
   "source": [
    "# CODE"
   ]
  },
  {
   "attachments": {},
   "cell_type": "markdown",
   "metadata": {},
   "source": [
    "---"
   ]
  },
  {
   "attachments": {},
   "cell_type": "markdown",
   "metadata": {},
   "source": [
    "## Schritt 5: Präsentation, Bericht\n",
    "\n",
    "1. Präsentation (~10m): Kurze Präsentation mit Diskussion der wichtigsten Ergebnisse.\n",
    "Q&A (~10min): Klärung von Verständnisfragen zu Stochastic Gradient Descent,\n",
    "Parameter Tuning, Regularisierung, Batchnorm und Optimizers.\n",
    "\n",
    "2. Bericht in Form eines (!) gut dokumentierten, übersichtlichen Jupyter Notebooks.\n",
    "Dieses soll schliesslich auch abgegeben werden und dem Fachexperten erlauben, die\n",
    "Schritte nachzuvollziehen (allenfalls auch das Training erneut laufen zu lassen)."
   ]
  },
  {
   "attachments": {},
   "cell_type": "markdown",
   "metadata": {},
   "source": [
    "---"
   ]
  }
 ],
 "metadata": {
  "kernelspec": {
   "display_name": "Python 3",
   "language": "python",
   "name": "python3"
  },
  "language_info": {
   "codemirror_mode": {
    "name": "ipython",
    "version": 3
   },
   "file_extension": ".py",
   "mimetype": "text/x-python",
   "name": "python",
   "nbconvert_exporter": "python",
   "pygments_lexer": "ipython3",
   "version": "3.9.7"
  },
  "orig_nbformat": 4,
  "vscode": {
   "interpreter": {
    "hash": "11938c6bc6919ae2720b4d5011047913343b08a43b18698fd82dedb0d4417594"
   }
  }
 },
 "nbformat": 4,
 "nbformat_minor": 2
}
