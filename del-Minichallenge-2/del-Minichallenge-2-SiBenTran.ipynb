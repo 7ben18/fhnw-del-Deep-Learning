{
 "cells": [
  {
<<<<<<< HEAD
   "attachments": {},
   "cell_type": "markdown",
   "metadata": {},
   "source": [
    "# Mini-Challenge 2\n",
    "\n",
    "Modul: Deep Learning  \n",
    "Thema: Paper-Studium und Umsetzung  \n",
    "Student: Si Ben Tran   \n",
    "Fachexperte: Martin Melchior  \n",
    "Abgabetermin: Ende FS23   \n",
    "\n",
    "Ziel:  \n",
    "Vertiefung in ein eher aktuelles Paper aus der Forschung und Umsetzung eines darin beschriebenen oder verwandten Tasks - gemäss Vereinbarung mit dem Fachcoach. \n",
    "\n",
    "Beispiel:  \n",
    "Implementiere, trainiere und validiere ein Deep Learning Modell für Image Captioning wie beschrieben im Paper Show and Tell.\n",
    "\n",
    "Zeitlicher Rahmen:  \n",
    "Wird beim Schritt 1 verbindlich festgelegt.\n",
    "\n",
    "Beurteilung:  \n",
    "Beurteilt wird auf Basis des abgegebenen Notebooks:  \n",
    "•\tVollständige und korrekte Umsetzung der vereinbarten Aufgabestellung.  \n",
    "•\tKlare, gut-strukturierte Umsetzung.   \n",
    "•\tSchlüssige Beschreibung und Interpretation der Ergebnisse. Gut gewählte und gut kommentierten Plots und Tabellen.  \n",
    "•\tVernünftiger Umgang mit (Computing-)Ressourcen.  \n",
    "•\tVerständliche Präsentation der Ergebnisse.  \n",
    "\n",
    "Referenzen, Key Words  \n",
    "•\tWord Embedding (z.B. word2vec, glove), um Wörter in numerische Vektoren in einem geeignet dimensionierten Raum zu mappen. Siehe z.B. Andrew Ng, Coursera: [Link](https://www.coursera.org/lecture/nlp-sequence-models/learning-word-embeddings-APM5s)      \n",
    "•\tBild Embedding mittels vortrainierten (evt. retrained) Netzwerken wie beispielsweise ResNet, GoogLeNet, EfficientNet oder ähnlich Transfer-Learning.  \n",
    "•\tSeq2Seq Models bekannt für Sprach-Übersetzung. \n",
    "\n",
    " "
   ]
  },
  {
   "attachments": {},
   "cell_type": "markdown",
   "metadata": {},
   "source": [
    "# Arbeitsschritte"
   ]
  },
  {
   "attachments": {},
   "cell_type": "markdown",
   "metadata": {},
   "source": [
    "## Schritt 1: Daten\n",
    "\n",
    "Gemäss Vereinbarung (für Captioning: [Flickr8k-Daten](https://www.kaggle.com/adityajn105/flickr8k/activity)).\n",
    "\n",
    "Absprache/Beschluss mit Coach und Beschluss, was evaluiert werden soll.\n"
   ]
  },
  {
   "cell_type": "code",
   "execution_count": null,
   "metadata": {},
   "outputs": [],
   "source": [
    "# CODE"
   ]
  },
  {
   "attachments": {},
   "cell_type": "markdown",
   "metadata": {},
   "source": [
    "---"
   ]
  },
  {
   "attachments": {},
   "cell_type": "markdown",
   "metadata": {},
   "source": [
    "## Schritt 2: Aufbau Modellierung\n",
    "\n",
    "Überlege Dir, welche Modell-Architektur Sinn machen könnte. Das Paper von Vinyals (https://arxiv.org/pdf/1411.4555.pdf) war wichtig in diesem Zusammenhang. du kannst Dich auf Ihre Architektur beziehen oder auch eine eigene, evt. einfachere verwenden. \n",
    "Zwei Modell-Varianten sollen aufgebaut werden:\n",
    "\n",
    "Absprache/Beschluss mit Coach und Beschluss, was evaluiert werden soll.\n"
   ]
  },
  {
=======
>>>>>>> main
   "cell_type": "code",
   "execution_count": null,
   "metadata": {},
   "outputs": [],
<<<<<<< HEAD
   "source": [
    "# CODE"
   ]
  },
  {
   "attachments": {},
   "cell_type": "markdown",
   "metadata": {},
   "source": [
    "---"
   ]
  },
  {
   "attachments": {},
   "cell_type": "markdown",
   "metadata": {},
   "source": [
    "## Schritt 3: Training und Evaluation\n",
    "\n",
    "Trainiere und evaluiere das Modell. Beschreibe genau was Du tust und warum Du es tust."
   ]
  },
  {
   "cell_type": "code",
   "execution_count": null,
   "metadata": {},
   "outputs": [],
   "source": [
    "# CODE"
   ]
  },
  {
   "attachments": {},
   "cell_type": "markdown",
   "metadata": {},
   "source": [
    "---"
   ]
  },
  {
   "attachments": {},
   "cell_type": "markdown",
   "metadata": {},
   "source": [
    "## Schritt 4: Präsentation / Bericht\n",
    "\n",
    "Präsentation (~10m): Kurze Präsentation mit Diskussion der wichtigsten Ergebnisse. \n",
    "Q&A (~10min): Klärung von Verständnisfragen zum Paper und der Umsetzung.\n",
    "\n",
    "Bericht in Form eines gut dokumentierten, übersichtlichen Jupyter Notebooks.\n",
    "Dieses soll schliesslich auch abgegeben werden und dem Fachexperten erlauben, die Schritte nachzuvollziehen (allenfalls auch das Training erneut laufen zu lassen).\n"
   ]
  },
  {
   "attachments": {},
   "cell_type": "markdown",
   "metadata": {},
   "source": [
    "---"
   ]
=======
   "source": []
>>>>>>> main
  }
 ],
 "metadata": {
  "kernelspec": {
   "display_name": "Python 3",
   "language": "python",
   "name": "python3"
  },
  "language_info": {
   "name": "python",
   "version": "3.9.7"
  },
  "orig_nbformat": 4,
  "vscode": {
   "interpreter": {
    "hash": "11938c6bc6919ae2720b4d5011047913343b08a43b18698fd82dedb0d4417594"
   }
  }
 },
 "nbformat": 4,
 "nbformat_minor": 2
}
