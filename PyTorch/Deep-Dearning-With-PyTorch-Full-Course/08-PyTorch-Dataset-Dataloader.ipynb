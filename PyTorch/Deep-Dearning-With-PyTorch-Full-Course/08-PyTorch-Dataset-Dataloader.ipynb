{
 "cells": [
  {
   "cell_type": "code",
   "execution_count": null,
   "metadata": {},
   "outputs": [],
   "source": [
    "import numpy as np \n",
    "import torch"
   ]
  },
  {
   "attachments": {},
   "cell_type": "markdown",
   "metadata": {},
   "source": [
    "# Example 1"
   ]
  },
  {
   "cell_type": "code",
   "execution_count": 1,
   "metadata": {},
   "outputs": [
    {
     "ename": "NameError",
     "evalue": "name 'np' is not defined",
     "output_type": "error",
     "traceback": [
      "\u001b[1;31m---------------------------------------------------------------------------\u001b[0m",
      "\u001b[1;31mNameError\u001b[0m                                 Traceback (most recent call last)",
      "Cell \u001b[1;32mIn[1], line 1\u001b[0m\n\u001b[1;32m----> 1\u001b[0m data \u001b[39m=\u001b[39m np\u001b[39m.\u001b[39mloadtext(\u001b[39m\"\u001b[39m\u001b[39mwine.csv\u001b[39m\u001b[39m\"\u001b[39m) \u001b[39m# reading data from csv file\u001b[39;00m\n\u001b[0;32m      3\u001b[0m \u001b[39m# training_loop\u001b[39;00m\n\u001b[0;32m      5\u001b[0m \u001b[39mfor\u001b[39;00m epoch \u001b[39min\u001b[39;00m \u001b[39mrange\u001b[39m(epochs):\n",
      "\u001b[1;31mNameError\u001b[0m: name 'np' is not defined"
     ]
    }
   ],
   "source": [
    "\n",
    "data = np.loadtext(\"wine.csv\") # reading data from csv file\n",
    "\n",
    "# training_loop\n",
    "\n",
    "for epoch in range(100):\n",
    "    x, y = data\n",
    "    # froward   \n",
    "    \n",
    "    # backward\n",
    "\n",
    "    # update weights\n",
    "\n",
    "    # etc.. "
   ]
  },
  {
   "attachments": {},
   "cell_type": "markdown",
   "metadata": {},
   "source": [
    "# with batches"
   ]
  },
  {
   "cell_type": "code",
   "execution_count": null,
   "metadata": {},
   "outputs": [],
   "source": [
    "# training loop\n",
    "for epoch in range(100):\n",
    "    # loop over all batches\n",
    "    for i in range(total_batches):\n",
    "        x_batch, y_batch = ..."
   ]
  },
  {
   "attachments": {},
   "cell_type": "markdown",
   "metadata": {},
   "source": [
    "# Terms\n",
    "\n",
    "epoch = 1 forward and backward pass of ALL training samples\n",
    "\n",
    "batch_size = number of training samples in one forward & backward pass\n",
    "\n",
    "number of iterations = number of passes, each pass using [batch_size] number of samples\n",
    "\n",
    "e.g 100 samples, batch_size = 20 --> 100/20 = 5 iterations for 1 epoch"
   ]
  },
  {
   "cell_type": "code",
   "execution_count": 5,
   "metadata": {},
   "outputs": [],
   "source": [
    "import torch \n",
    "import torchvision\n",
    "from torch.utils.data import Dataset, DataLoader\n",
    "import numpy as np\n",
    "import math\n"
   ]
  },
  {
   "cell_type": "code",
   "execution_count": 1,
   "metadata": {},
   "outputs": [
    {
     "ename": "NameError",
     "evalue": "name 'Dataset' is not defined",
     "output_type": "error",
     "traceback": [
      "\u001b[1;31m---------------------------------------------------------------------------\u001b[0m",
      "\u001b[1;31mNameError\u001b[0m                                 Traceback (most recent call last)",
      "Cell \u001b[1;32mIn[1], line 1\u001b[0m\n\u001b[1;32m----> 1\u001b[0m \u001b[39mclass\u001b[39;00m \u001b[39mWineDataset\u001b[39;00m(Dataset):\n\u001b[0;32m      3\u001b[0m     \u001b[39mdef\u001b[39;00m \u001b[39m__init__\u001b[39m(\u001b[39mself\u001b[39m):\n\u001b[0;32m      4\u001b[0m         \u001b[39m# data loading\u001b[39;00m\n\u001b[0;32m      5\u001b[0m         Xy \u001b[39m=\u001b[39m np\u001b[39m.\u001b[39mloadtxt(\u001b[39m\"\u001b[39m\u001b[39mdata/wine/wine.csv\u001b[39m\u001b[39m\"\u001b[39m, delimiter\u001b[39m=\u001b[39m\u001b[39m\"\u001b[39m\u001b[39m,\u001b[39m\u001b[39m\"\u001b[39m, dtype\u001b[39m=\u001b[39mnp\u001b[39m.\u001b[39mfloat32, skiprows\u001b[39m=\u001b[39m\u001b[39m1\u001b[39m)\n",
      "\u001b[1;31mNameError\u001b[0m: name 'Dataset' is not defined"
     ]
    }
   ],
   "source": [
    "class WineDataset(Dataset):\n",
    "\n",
    "    def __init__(self):\n",
    "        # data loading\n",
    "        Xy = np.loadtxt(\"data/wine/wine.csv\", delimiter=\",\", dtype=np.float32, skiprows=1)\n",
    "        self.x = torch.from_numpy(Xy[:, 1:])  # size [n_samples, n_features]\n",
    "        self.y = torch.from_numpy(Xy[:, [0]])  # size [n_samples, 1] \n",
    "        self.n_samples = Xy.shape[0]\n",
    "\n",
    "\n",
    "    def __getitem__(self, index):\n",
    "        # dataset[0]\n",
    "        return self.x[index], self.y[index]\n",
    "\n",
    "    def __len__(self):\n",
    "        # len(dataset)\n",
    "        return self.n_samples\n",
    "\n",
    "# create object dataset from class WineDataset\n",
    "dataset = WineDataset()\n",
    "\n",
    "# get first sample and unpack (__getitem__) \n",
    "#first_data = dataset[0]\n",
    "\n",
    "# pack them into features and labels \n",
    "#features, labels = first_data\n",
    "#print(features, labels) \n",
    "\n",
    "# trainig loop\n",
    "num_epoch = 2\n",
    "total_samples = len(dataset)\n",
    "n_iterations = math.ceil(total_samples/4)\n",
    "print(total_samples, n_iterations)\n",
    "\n",
    "\n",
    "#....... :("
   ]
  }
 ],
 "metadata": {
  "kernelspec": {
   "display_name": "del",
   "language": "python",
   "name": "python3"
  },
  "language_info": {
   "codemirror_mode": {
    "name": "ipython",
    "version": 3
   },
   "file_extension": ".py",
   "mimetype": "text/x-python",
   "name": "python",
   "nbconvert_exporter": "python",
   "pygments_lexer": "ipython3",
   "version": "3.9.7"
  },
  "orig_nbformat": 4,
  "vscode": {
   "interpreter": {
    "hash": "8017bdd22576c56d59d01d0ab86481dfefcf298438f79e8efb642ea91ae92990"
   }
  }
 },
 "nbformat": 4,
 "nbformat_minor": 2
}
