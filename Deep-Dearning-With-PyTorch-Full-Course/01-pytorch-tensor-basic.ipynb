{
 "cells": [
  {
   "attachments": {},
   "cell_type": "markdown",
   "metadata": {},
   "source": [
    "# Bibliothek Laden"
   ]
  },
  {
   "cell_type": "code",
   "execution_count": 1,
   "metadata": {},
   "outputs": [],
   "source": [
    "# Bilbiothek importieren\n",
    "import torch\n",
    "import numpy as np"
   ]
  },
  {
   "attachments": {},
   "cell_type": "markdown",
   "metadata": {},
   "source": [
    "# Erstellen von Tensoren mit PyTorch"
   ]
  },
  {
   "cell_type": "code",
   "execution_count": 2,
   "metadata": {},
   "outputs": [
    {
     "data": {
      "text/plain": [
       "'empty tensor'"
      ]
     },
     "metadata": {},
     "output_type": "display_data"
    },
    {
     "data": {
      "text/plain": [
       "tensor([[0., 0.],\n",
       "        [0., 0.],\n",
       "        [0., 0.]], dtype=torch.float16)"
      ]
     },
     "metadata": {},
     "output_type": "display_data"
    },
    {
     "data": {
      "text/plain": [
       "'empty tensor dtype'"
      ]
     },
     "metadata": {},
     "output_type": "display_data"
    },
    {
     "data": {
      "text/plain": [
       "torch.float16"
      ]
     },
     "metadata": {},
     "output_type": "display_data"
    },
    {
     "data": {
      "text/plain": [
       "'empty tensor size'"
      ]
     },
     "metadata": {},
     "output_type": "display_data"
    },
    {
     "data": {
      "text/plain": [
       "torch.Size([3, 2])"
      ]
     },
     "metadata": {},
     "output_type": "display_data"
    },
    {
     "data": {
      "text/plain": [
       "'random tensor'"
      ]
     },
     "metadata": {},
     "output_type": "display_data"
    },
    {
     "data": {
      "text/plain": [
       "tensor([[0.8184, 0.5808, 0.7959],\n",
       "        [0.2097, 0.0314, 0.7060]])"
      ]
     },
     "metadata": {},
     "output_type": "display_data"
    },
    {
     "data": {
      "text/plain": [
       "'zero tensor'"
      ]
     },
     "metadata": {},
     "output_type": "display_data"
    },
    {
     "data": {
      "text/plain": [
       "tensor([[0., 0.],\n",
       "        [0., 0.]])"
      ]
     },
     "metadata": {},
     "output_type": "display_data"
    },
    {
     "data": {
      "text/plain": [
       "'ones tensor'"
      ]
     },
     "metadata": {},
     "output_type": "display_data"
    },
    {
     "data": {
      "text/plain": [
       "tensor([[1., 1., 1., 1.],\n",
       "        [1., 1., 1., 1.]])"
      ]
     },
     "metadata": {},
     "output_type": "display_data"
    },
    {
     "data": {
      "text/plain": [
       "'eye tensor'"
      ]
     },
     "metadata": {},
     "output_type": "display_data"
    },
    {
     "data": {
      "text/plain": [
       "tensor([[1., 0., 0.],\n",
       "        [0., 1., 0.],\n",
       "        [0., 0., 1.]])"
      ]
     },
     "metadata": {},
     "output_type": "display_data"
    },
    {
     "data": {
      "text/plain": [
       "'tensor from python list'"
      ]
     },
     "metadata": {},
     "output_type": "display_data"
    },
    {
     "data": {
      "text/plain": [
       "tensor([1, 2, 3, 4, 5, 6])"
      ]
     },
     "metadata": {},
     "output_type": "display_data"
    }
   ],
   "source": [
    "# creating an empty tensor\n",
    "x = torch.empty(size = (3,2), dtype=torch.float16) # 3 rows, 2 columns\n",
    "display(\"empty tensor\", x)\n",
    "display(\"empty tensor dtype\", x.dtype)\n",
    "display(\"empty tensor size\", x.size()) # tensor.size() using method\n",
    "\n",
    "# creating a tensor with random values\n",
    "x = torch.rand(size = (2,3))\n",
    "display(\"random tensor\", x)\n",
    "\n",
    "# analog to np.zeros and np.ones, np.eye\n",
    "x = torch.zeros(size = (2,2))\n",
    "display(\"zero tensor\", x)\n",
    "\n",
    "x = torch.ones(size = (2,4))\n",
    "display(\"ones tensor\", x)\n",
    "\n",
    "x = torch.eye(n = 3)\n",
    "display(\"eye tensor\", x)\n",
    "\n",
    "# create from a pyhon list\n",
    "python_list = [1,2,3,4,5,6]\n",
    "x = torch.tensor(python_list)\n",
    "display(\"tensor from python list\", x)\n",
    "\n",
    "# addition von tensoren\n",
    "x = torch.eye(n=2)\n",
    "y = torch.eye(n=2)\n"
   ]
  },
  {
   "attachments": {},
   "cell_type": "markdown",
   "metadata": {},
   "source": [
    "# Berechnungen mit Tensoren"
   ]
  },
  {
   "cell_type": "code",
   "execution_count": 3,
   "metadata": {},
   "outputs": [
    {
     "data": {
      "text/plain": [
       "'addition of tensors'"
      ]
     },
     "metadata": {},
     "output_type": "display_data"
    },
    {
     "data": {
      "text/plain": [
       "tensor([[2., 0.],\n",
       "        [0., 2.]])"
      ]
     },
     "metadata": {},
     "output_type": "display_data"
    },
    {
     "data": {
      "text/plain": [
       "'addition of tensors'"
      ]
     },
     "metadata": {},
     "output_type": "display_data"
    },
    {
     "data": {
      "text/plain": [
       "tensor([[11., 10.],\n",
       "        [10., 11.]])"
      ]
     },
     "metadata": {},
     "output_type": "display_data"
    },
    {
     "data": {
      "text/plain": [
       "'inplaced y tenor'"
      ]
     },
     "metadata": {},
     "output_type": "display_data"
    },
    {
     "data": {
      "text/plain": [
       "tensor([[2., 0.],\n",
       "        [0., 2.]])"
      ]
     },
     "metadata": {},
     "output_type": "display_data"
    },
    {
     "data": {
      "text/plain": [
       "'substraktion von tensoren'"
      ]
     },
     "metadata": {},
     "output_type": "display_data"
    },
    {
     "data": {
      "text/plain": [
       "tensor([[-1.,  0.],\n",
       "        [ 0., -1.]])"
      ]
     },
     "metadata": {},
     "output_type": "display_data"
    },
    {
     "data": {
      "text/plain": [
       "'elementweise multiplication'"
      ]
     },
     "metadata": {},
     "output_type": "display_data"
    },
    {
     "data": {
      "text/plain": [
       "tensor([[ 1,  4,  9],\n",
       "        [16, 25, 36]], dtype=torch.int32)"
      ]
     },
     "metadata": {},
     "output_type": "display_data"
    },
    {
     "data": {
      "text/plain": [
       "'elementweise multiplication with 2'"
      ]
     },
     "metadata": {},
     "output_type": "display_data"
    },
    {
     "data": {
      "text/plain": [
       "tensor([[100, 200, 300],\n",
       "        [400, 500, 600]], dtype=torch.int32)"
      ]
     },
     "metadata": {},
     "output_type": "display_data"
    },
    {
     "data": {
      "text/plain": [
       "'elementweise division'"
      ]
     },
     "metadata": {},
     "output_type": "display_data"
    },
    {
     "data": {
      "text/plain": [
       "tensor([[1., 1., 1.],\n",
       "        [1., 1., 1.]])"
      ]
     },
     "metadata": {},
     "output_type": "display_data"
    },
    {
     "data": {
      "text/plain": [
       "'matrix multiplication'"
      ]
     },
     "metadata": {},
     "output_type": "display_data"
    },
    {
     "data": {
      "text/plain": [
       "tensor([[22, 28],\n",
       "        [49, 64]])"
      ]
     },
     "metadata": {},
     "output_type": "display_data"
    }
   ],
   "source": [
    "# addition von tensoren\n",
    "x = torch.eye(n=2)\n",
    "y = torch.eye(n=2)\n",
    "\n",
    "z = x + y # torch.add(x,y)\n",
    "display(\"addition of tensors\", z)\n",
    "display(\"addition of tensors\", y.add(10))\n",
    "\n",
    "# inplace operationen enden immer mit _ (inplace y)\n",
    "y.add_(x)\n",
    "display(\"inplaced y tenor\", y)\n",
    "\n",
    "# subtraktion von tensoren\n",
    "display(\"substraktion von tensoren\", torch.sub(x,y))\n",
    "\n",
    "# elementweise multiplication\n",
    "x = torch.tensor(np.array([[1,2,3],[4,5,6]]))\n",
    "y = torch.tensor(np.array([[1,2,3],[4,5,6]]))\n",
    "z = torch.mul(x,y)\n",
    "display(\"elementweise multiplication\", z)\n",
    "display(\"elementweise multiplication with 2\", torch.mul(x, 100))\n",
    "\n",
    "# elementweise division\n",
    "display(\"elementweise division\", torch.div(x,y))\n",
    "\n",
    "# matrix multiplikation von tensoren\n",
    "x = torch.tensor([[1,2,3],[4,5,6]])\n",
    "y = torch.tensor([[1,2],[3,4],[5,6]])\n",
    "z = torch.matmul(x,y)\n",
    "display(\"matrix multiplication\", z)\n"
   ]
  },
  {
   "attachments": {},
   "cell_type": "markdown",
   "metadata": {},
   "source": [
    "# Slicing von Tensoren"
   ]
  },
  {
   "cell_type": "code",
   "execution_count": 4,
   "metadata": {},
   "outputs": [
    {
     "data": {
      "text/plain": [
       "'x'"
      ]
     },
     "metadata": {},
     "output_type": "display_data"
    },
    {
     "data": {
      "text/plain": [
       "tensor([[0.6684, 0.7884, 0.6627],\n",
       "        [0.7317, 0.6432, 0.1939],\n",
       "        [0.3530, 0.6339, 0.7837],\n",
       "        [0.9182, 0.4334, 0.8664],\n",
       "        [0.0772, 0.2753, 0.5576]])"
      ]
     },
     "metadata": {},
     "output_type": "display_data"
    },
    {
     "data": {
      "text/plain": [
       "'x[0:2]'"
      ]
     },
     "metadata": {},
     "output_type": "display_data"
    },
    {
     "data": {
      "text/plain": [
       "tensor([[0.6684, 0.7884, 0.6627],\n",
       "        [0.7317, 0.6432, 0.1939]])"
      ]
     },
     "metadata": {},
     "output_type": "display_data"
    },
    {
     "data": {
      "text/plain": [
       "'x[:,0]'"
      ]
     },
     "metadata": {},
     "output_type": "display_data"
    },
    {
     "data": {
      "text/plain": [
       "tensor([[0.6684, 0.7884],\n",
       "        [0.7317, 0.6432],\n",
       "        [0.3530, 0.6339],\n",
       "        [0.9182, 0.4334],\n",
       "        [0.0772, 0.2753]])"
      ]
     },
     "metadata": {},
     "output_type": "display_data"
    },
    {
     "data": {
      "text/plain": [
       "'x[2:4,0:2]'"
      ]
     },
     "metadata": {},
     "output_type": "display_data"
    },
    {
     "data": {
      "text/plain": [
       "tensor([[0.3530, 0.6339],\n",
       "        [0.9182, 0.4334]])"
      ]
     },
     "metadata": {},
     "output_type": "display_data"
    }
   ],
   "source": [
    "x = torch.rand(size = (5,3), dtype=torch.float32)\n",
    "display(\"x\", x)\n",
    "\n",
    "# selektieren von zeilen\n",
    "display(\"x[0:2]\", x[0:2 , :])\n",
    "\n",
    "# selektieren von spalten\n",
    "display(\"x[:,0]\", x[: , 0:2])\n",
    "\n",
    "# selektieren von zeilen und spalten\n",
    "display(\"x[2:4,0:2]\", x[2:4 , 0:2])"
   ]
  },
  {
   "attachments": {},
   "cell_type": "markdown",
   "metadata": {},
   "source": [
    "# Reshaping von Tensoren"
   ]
  },
  {
   "cell_type": "code",
   "execution_count": 5,
   "metadata": {},
   "outputs": [
    {
     "data": {
      "text/plain": [
       "'x'"
      ]
     },
     "metadata": {},
     "output_type": "display_data"
    },
    {
     "data": {
      "text/plain": [
       "tensor([[0.4036, 0.5932, 0.8789, 0.9194],\n",
       "        [0.9720, 0.2617, 0.1824, 0.3583],\n",
       "        [0.9047, 0.0191, 0.3272, 0.1208],\n",
       "        [0.1484, 0.9238, 0.0778, 0.0094]])"
      ]
     },
     "metadata": {},
     "output_type": "display_data"
    },
    {
     "data": {
      "text/plain": [
       "'1D array'"
      ]
     },
     "metadata": {},
     "output_type": "display_data"
    },
    {
     "data": {
      "text/plain": [
       "tensor([0.4036, 0.5932, 0.8789, 0.9194, 0.9720, 0.2617, 0.1824, 0.3583, 0.9047,\n",
       "        0.0191, 0.3272, 0.1208, 0.1484, 0.9238, 0.0778, 0.0094])"
      ]
     },
     "metadata": {},
     "output_type": "display_data"
    },
    {
     "data": {
      "text/plain": [
       "'2D array'"
      ]
     },
     "metadata": {},
     "output_type": "display_data"
    },
    {
     "data": {
      "text/plain": [
       "tensor([[0.4036, 0.5932],\n",
       "        [0.8789, 0.9194],\n",
       "        [0.9720, 0.2617],\n",
       "        [0.1824, 0.3583],\n",
       "        [0.9047, 0.0191],\n",
       "        [0.3272, 0.1208],\n",
       "        [0.1484, 0.9238],\n",
       "        [0.0778, 0.0094]])"
      ]
     },
     "metadata": {},
     "output_type": "display_data"
    },
    {
     "data": {
      "text/plain": [
       "'2D array'"
      ]
     },
     "metadata": {},
     "output_type": "display_data"
    },
    {
     "data": {
      "text/plain": [
       "tensor([[0.4036, 0.5932, 0.8789, 0.9194, 0.9720, 0.2617, 0.1824, 0.3583],\n",
       "        [0.9047, 0.0191, 0.3272, 0.1208, 0.1484, 0.9238, 0.0778, 0.0094]])"
      ]
     },
     "metadata": {},
     "output_type": "display_data"
    },
    {
     "data": {
      "text/plain": [
       "'2D array'"
      ]
     },
     "metadata": {},
     "output_type": "display_data"
    },
    {
     "data": {
      "text/plain": [
       "tensor([[0.4036, 0.5932],\n",
       "        [0.8789, 0.9194],\n",
       "        [0.9720, 0.2617],\n",
       "        [0.1824, 0.3583],\n",
       "        [0.9047, 0.0191],\n",
       "        [0.3272, 0.1208],\n",
       "        [0.1484, 0.9238],\n",
       "        [0.0778, 0.0094]])"
      ]
     },
     "metadata": {},
     "output_type": "display_data"
    }
   ],
   "source": [
    "x = torch.rand(size = (4,4), dtype=torch.float32)\n",
    "display(\"x\", x)\n",
    "\n",
    "# mittels torch.view() Dimension aendern\n",
    "display(\"1D array\", x.view(16))\n",
    "\n",
    "# 2D array\n",
    "display(\"2D array\", x.view(8,2))\n",
    "\n",
    "# nutzen von -1, (torch findet die passende Dimension selbst heraus)\n",
    "display(\"2D array\", x.view(-1,8))\n",
    "display(\"2D array\", x.view(8,-1))"
   ]
  },
  {
   "attachments": {},
   "cell_type": "markdown",
   "metadata": {},
   "source": [
    "# requires_grad "
   ]
  },
  {
   "cell_type": "code",
   "execution_count": 6,
   "metadata": {},
   "outputs": [
    {
     "data": {
      "text/plain": [
       "'x'"
      ]
     },
     "metadata": {},
     "output_type": "display_data"
    },
    {
     "data": {
      "text/plain": [
       "tensor([[0.4802, 0.0535, 0.4527, 0.3083],\n",
       "        [0.1114, 0.9058, 0.7951, 0.0387],\n",
       "        [0.8500, 0.8339, 0.3248, 0.7115],\n",
       "        [0.7505, 0.2645, 0.8783, 0.8795]], requires_grad=True)"
      ]
     },
     "metadata": {},
     "output_type": "display_data"
    }
   ],
   "source": [
    "# erstelle einen Tensor\n",
    "x = torch.rand(size = (4,4), dtype=torch.float32, requires_grad=True)\n",
    "display(\"x\", x)\n",
    "\n",
    "# fuer was ist requires_grad?\n",
    "# requires_grad=True, erlaubt es, die Gradienten zu berechnen\n",
    "# fuer was ist das gut?\n",
    "# Gradienten sind wichtig fuer das Training von neuronalen Netzen"
   ]
  }
 ],
 "metadata": {
  "kernelspec": {
   "display_name": "del",
   "language": "python",
   "name": "python3"
  },
  "language_info": {
   "codemirror_mode": {
    "name": "ipython",
    "version": 3
   },
   "file_extension": ".py",
   "mimetype": "text/x-python",
   "name": "python",
   "nbconvert_exporter": "python",
   "pygments_lexer": "ipython3",
   "version": "3.9.7"
  },
  "orig_nbformat": 4,
  "vscode": {
   "interpreter": {
    "hash": "8017bdd22576c56d59d01d0ab86481dfefcf298438f79e8efb642ea91ae92990"
   }
  }
 },
 "nbformat": 4,
 "nbformat_minor": 2
}
