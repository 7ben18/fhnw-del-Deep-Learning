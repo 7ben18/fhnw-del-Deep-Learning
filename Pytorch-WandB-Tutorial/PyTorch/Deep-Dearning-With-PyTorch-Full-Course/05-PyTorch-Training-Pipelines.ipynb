{
 "cells": [
  {
   "cell_type": "code",
   "execution_count": 28,
   "metadata": {},
   "outputs": [
    {
     "name": "stdout",
     "output_type": "stream",
     "text": [
      "prediction before training:  -2.686307430267334\n",
      "epoch 1: w = 0.031, loss = 52.83644104\n",
      "epoch 11: w = 1.695, loss = 1.36730385\n",
      "epoch 21: w = 1.963, loss = 0.03565737\n",
      "epoch 31: w = 2.005, loss = 0.00118809\n",
      "epoch 41: w = 2.012, loss = 0.00028086\n",
      "epoch 51: w = 2.013, loss = 0.00024283\n",
      "epoch 61: w = 2.012, loss = 0.00022813\n",
      "epoch 71: w = 2.012, loss = 0.00021484\n",
      "epoch 81: w = 2.012, loss = 0.00020233\n",
      "epoch 91: w = 2.011, loss = 0.00019056\n",
      "prediction after training:  10.022966384887695\n"
     ]
    }
   ],
   "source": [
    "# 1) Design model (input, output size, forward pass)\n",
    "# 2) Construct loss and optimizer\n",
    "# 3) Training loop\n",
    "#   - forward pass: compute prediction and loss\n",
    "#   - backward pass: gradients\n",
    "#   - update weights\n",
    "\n",
    "import torch\n",
    "import torch.nn as nn # nn -> neural networks\n",
    "\n",
    "# f = w * x\n",
    "\n",
    "# f = 2 * x \n",
    "X = torch.tensor([[1],[2],[3],[4]], dtype = torch.float32)\n",
    "Y = torch.tensor([[2],[4],[6],[8]], dtype = torch.float32)\n",
    "\n",
    "X_test = torch.tensor([5], dtype = torch.float32)\n",
    "\n",
    "num_samples, num_features = X.shape # 4 samples, 1 feature\n",
    "input_size = num_features\n",
    "output_size = num_features\n",
    "\n",
    "model = nn.Linear(in_features = input_size, out_features = output_size)\n",
    "\n",
    "# get predictions before training with x = 5\n",
    "print(\"prediction before training: \", model(X_test).item())\n",
    "\n",
    "# training\n",
    "learning_rate = 0.01\n",
    "n_iters = 100\n",
    "\n",
    "loss = nn.MSELoss() # mean squared error loss\n",
    "optimizer = torch.optim.SGD(model.parameters(), lr = learning_rate) # stochastic gradient descent\n",
    "\n",
    "for epoch in range(n_iters):\n",
    "    # prediction = forward pass\n",
    "    y_pred = model(X)\n",
    "\n",
    "    # loss\n",
    "    l = loss(Y, y_pred)\n",
    "\n",
    "    # gradients = backward pass\n",
    "    l.backward() # dl/dw\n",
    "\n",
    "    # update weights\n",
    "    optimizer.step()\n",
    "\n",
    "    # zero gradients\n",
    "    optimizer.zero_grad()\n",
    "\n",
    "    if epoch % 10 == 0:\n",
    "        [w, b] = model.parameters()\n",
    "        print(f'epoch {epoch + 1}: w = {w[0][0].item():.3f}, loss = {l.item():.8f}')\n",
    "\n",
    "print(\"prediction after training: \", model(X_test).item())\n"
   ]
  }
 ],
 "metadata": {
  "kernelspec": {
   "display_name": "del",
   "language": "python",
   "name": "python3"
  },
  "language_info": {
   "codemirror_mode": {
    "name": "ipython",
    "version": 3
   },
   "file_extension": ".py",
   "mimetype": "text/x-python",
   "name": "python",
   "nbconvert_exporter": "python",
   "pygments_lexer": "ipython3",
   "version": "3.9.7"
  },
  "orig_nbformat": 4,
  "vscode": {
   "interpreter": {
    "hash": "8017bdd22576c56d59d01d0ab86481dfefcf298438f79e8efb642ea91ae92990"
   }
  }
 },
 "nbformat": 4,
 "nbformat_minor": 2
}
